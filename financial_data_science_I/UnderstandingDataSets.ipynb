{
 "cells": [
  {
   "cell_type": "markdown",
   "metadata": {},
   "source": [
    "# Part 1: Understanding Data Sets {-}"
   ]
  },
  {
   "cell_type": "raw",
   "metadata": {},
   "source": [
    "\\lhead{Part 1: Understanding Data Sets}\n",
    "\n",
    "\\lfoot{Financial Data Science I}\n",
    "\n",
    "\\rfoot{\\footnotesize Page \\thepage\\ of \\pageref{LastPage}}\n",
    "\n",
    "\\cfoot{Updated \\today}"
   ]
  },
  {
   "cell_type": "markdown",
   "metadata": {},
   "source": [
    "This Part presents an example of reading in a data set, and ensuring\n",
    "the data is fully understood and properly represented prior to any\n",
    "further analysis.\n",
    "\n",
    "The ability to read in, clean, and understand data sets is a crucial\n",
    "skill. Data do not typically come in a convenient form. Careful\n",
    "consideration should be given to exploring the data to ensure full\n",
    "understanding of the nature of the data set."
   ]
  },
  {
   "cell_type": "markdown",
   "metadata": {},
   "source": [
    "## Example Data Set {-}\n",
    "\n",
    "First, we will read in a data set that we will use in our\n",
    "following examples.\n",
    "\n",
    "Visit the website\n",
    "\n",
    "__[https://bit.ly/31QyYjK](https://www.sec.gov/opa/data/market-structure/marketstructuredownloadshtml-by_security.html)__\n",
    "\n",
    "and download the data from the first quarter of 2017. Create a directory\n",
    "for working on these examples, and place this file in that directory.\n",
    "\n",
    "These data come from the U.S. Securities and Exchange Commission\n",
    "respository on market structure. This data set contains daily\n",
    "characteristics of a range of market variables over 5000 equities and\n",
    "ETFs, accumulated over several exchanges. See also\n",
    "\n",
    "__[https://www.sec.gov/marketstructure/mar_methodology.html](https://www.sec.gov/marketstructure/mar_methodology.html)__"
   ]
  },
  {
   "cell_type": "markdown",
   "metadata": {},
   "source": [
    "\\newpage\n",
    "\n",
    "Be sure that the working directory is correctly set in Python (use `chdir` from `os` if necessary)\n",
    "and use `read_csv` from `pandas`:"
   ]
  },
  {
   "cell_type": "code",
   "execution_count": 24,
   "metadata": {
    "pycharm": {
     "is_executing": false
    }
   },
   "outputs": [
    {
     "name": "stdout",
     "text": [
      "<class 'pandas.core.frame.DataFrame'>\nRangeIndex: 325162 entries, 0 to 325161\nData columns (total 19 columns):\nDate                        325162 non-null int64\nSecurity                    325162 non-null object\nTicker                      325162 non-null object\nMcapRank                    325083 non-null float64\nTurnRank                    325083 non-null float64\nVolatilityRank              325161 non-null float64\nPriceRank                   325083 non-null float64\nLitVol('000)                325162 non-null float64\nOrderVol('000)              325162 non-null float64\nHidden                      325162 non-null float64\nTradesForHidden             325162 non-null float64\nHiddenVol('000)             325162 non-null float64\nTradeVolForHidden('000)     325162 non-null float64\nCancels                     325162 non-null float64\nLitTrades                   325162 non-null float64\nOddLots                     325162 non-null float64\nTradesForOddLots            325162 non-null float64\nOddLotVol('000)             325162 non-null float64\nTradeVolForOddLots('000)    325162 non-null float64\ndtypes: float64(16), int64(1), object(2)\nmemory usage: 47.1+ MB\n"
     ],
     "output_type": "stream"
    }
   ],
   "source": [
    "import pandas as pd\n",
    "import matplotlib.pyplot as plt\n",
    "import numpy as np\n",
    "fulldata = pd.read_csv(\"q1_2017_all.csv\")\n",
    "\n",
    "fulldata.info()"
   ]
  },
  {
   "cell_type": "markdown",
   "metadata": {},
   "source": [
    "**Exercise:** Visually inspect the data set and comment.\n",
    "\n",
    "\\answerlines{7}"
   ]
  },
  {
   "cell_type": "markdown",
   "metadata": {},
   "source": [
    "Background on the data can be found in the associated `README` file, available on Canvas in the \"Data Sets\" folder in the \"Files\" page. We will reference portions of it below."
   ]
  },
  {
   "cell_type": "markdown",
   "metadata": {},
   "source": [
    "\\newpage\n",
    "\n",
    "## Understanding the Variables {-}\n",
    "\n",
    "Whenever a new data set is encountered, one should fully understand its variables. Specific questions to address for each variable:\n",
    "\n",
    "1. Describe the information that is stored in this column.\n",
    "\n",
    "2. What type of variable is it? (Timestamp, categorical, ordinal, ratio, other?) Be sure that Python represents the variable correctly.\n",
    "\n",
    "3. Are there any missing values? What is the source of the missingness?\n",
    "\n",
    "4. Are there any extreme/inappropriate values? What is the source of the extreme value?"
   ]
  },
  {
   "cell_type": "markdown",
   "metadata": {},
   "source": [
    "**Exercise:** Describe the distinctions between the variables which are on the categorical, ordinal, and ratio scales.\n",
    "\n",
    "\\answerlines{10}"
   ]
  },
  {
   "cell_type": "markdown",
   "metadata": {},
   "source": [
    "## Column 1: Date {-}\n",
    "\n",
    "The first column in `fulldata` is a date stamp for the observation. Python/Pandas has special functions\n",
    "for handling dates which will prove useful later, including when working with time series.\n",
    "\n",
    "After reading the file, the dates are simply integers."
   ]
  },
  {
   "cell_type": "code",
   "execution_count": 25,
   "metadata": {
    "pycharm": {
     "is_executing": false
    }
   },
   "outputs": [
    {
     "name": "stdout",
     "text": [
      "20170103\n"
     ],
     "output_type": "stream"
    }
   ],
   "source": [
    "print(fulldata['Date'][0])"
   ]
  },
  {
   "cell_type": "markdown",
   "metadata": {},
   "source": [
    "The function `to_datetime` in Pandas will make the conversion. The list on the following page shows all of the formatting characters. "
   ]
  },
  {
   "cell_type": "code",
   "execution_count": 26,
   "metadata": {
    "pycharm": {
     "is_executing": false
    }
   },
   "outputs": [],
   "source": [
    "fulldata['Date'] = \\\n",
    "  pd.to_datetime(fulldata['Date'],\n",
    "                 format='%Y%m%d')"
   ]
  },
  {
   "cell_type": "markdown",
   "metadata": {},
   "source": [
    "These strings can also be used in formatting output using `strftime`."
   ]
  },
  {
   "cell_type": "code",
   "execution_count": 27,
   "metadata": {
    "pycharm": {
     "is_executing": false
    }
   },
   "outputs": [
    {
     "name": "stdout",
     "text": [
      "01/17\nTuesday, January 03\n"
     ],
     "output_type": "stream"
    }
   ],
   "source": [
    "print(fulldata.Date[0].strftime('%m/%y'))\n",
    "print(fulldata.Date[0].strftime('%A, %B %d'))\n"
   ]
  },
  {
   "cell_type": "markdown",
   "metadata": {},
   "source": [
    "\\newpage\n",
    "\n",
    "\\large (From `https://stackabuse.com/how-to-format-dates-in-python/`.) \\Large\n",
    "\n",
    "\\vspace{-.2in}\n",
    "* `%b`: Returns the first three characters of the month name.\n",
    "* `%d`: Returns day of the month, from 1 to 31.\n",
    "* `%Y`: Returns the year in four-digit format.\n",
    "* `%H`: Returns the hour.\n",
    "* `%M`: Returns the minute, from 00 to 59.\n",
    "* `%S`: Returns the second, from 00 to 59.\n",
    "* `%a`: Returns the first three characters of the weekday, e.g. Wed.\n",
    "* `%A`: Returns the full name of the weekday, e.g. Wednesday.\n",
    "* `%B`: Returns the full name of the month, e.g. September.\n",
    "* `%w`: Returns the weekday as a number, from 0 to 6, with Sunday as 0.\n",
    "* `%m`: Returns the month as a number, from 01 to 12.\n",
    "* `%p`: Returns AM/PM for time.\n",
    "* `%y`: Returns the year in two-digit format, that is, without the century.\n",
    "* `%f`: Returns microsecond from 000000 to 999999.\n",
    "* `%Z`: Returns the timezone.\n",
    "* `%z`: Returns UTC offset.\n",
    "* `%j`: Returns the number of the day in the year, from 001 to 366.\n",
    "* `%W`: Returns the week number of the year, from 00 to 53, with Monday being counted as the first day of the week.\n",
    "* `%U`: Returns the week number of the year, from 00 to 53, with Sunday counted as the first day of each week.\n",
    "* `%c`: Returns the local date and time version.\n",
    "* `%x`: Returns the local version of date.\n",
    "* `%X`: Returns the local version of time."
   ]
  },
  {
   "cell_type": "markdown",
   "metadata": {},
   "source": [
    "\\newpage\n",
    "## Columns 2 and 3: Security and Ticker {-}\n",
    "\n",
    "The variables `Security` and `Ticker` are currently of type `object`, which is how Pandas stores strings.\n",
    "\n"
   ]
  },
  {
   "cell_type": "code",
   "execution_count": 28,
   "metadata": {
    "pycharm": {
     "is_executing": false
    }
   },
   "outputs": [
    {
     "data": {
      "text/plain": "Security    object\nTicker      object\ndtype: object"
     },
     "metadata": {},
     "output_type": "execute_result",
     "execution_count": 28
    }
   ],
   "source": [
    "fulldata[['Security','Ticker']].dtypes"
   ]
  },
  {
   "cell_type": "markdown",
   "metadata": {},
   "source": [
    "Both of these variables are clearly categorical, and lacking in a natural ordering to the levels. The conversion to the appropriate data type is shown below. (By default, the categories are taken to be unordered.)"
   ]
  },
  {
   "cell_type": "code",
   "execution_count": 29,
   "metadata": {
    "pycharm": {
     "is_executing": false
    }
   },
   "outputs": [
    {
     "data": {
      "text/plain": "Security    category\nTicker      category\ndtype: object"
     },
     "metadata": {},
     "output_type": "execute_result",
     "execution_count": 29
    }
   ],
   "source": [
    "fulldata['Security'] = \\\n",
    "  fulldata['Security'].astype('category')\n",
    "fulldata['Ticker'] = \\\n",
    "  fulldata['Ticker'].astype('category')\n",
    "\n",
    "fulldata[['Security','Ticker']].dtypes"
   ]
  },
  {
   "cell_type": "markdown",
   "metadata": {},
   "source": [
    "\\newpage\n",
    "\n",
    "We can see that there are two possible levels for `Security`, `Stock` or `ETF` (Exchange Traded Fund). There are over 5,000 symbols under consideration."
   ]
  },
  {
   "cell_type": "code",
   "execution_count": 30,
   "metadata": {
    "pycharm": {
     "is_executing": false
    }
   },
   "outputs": [
    {
     "name": "stdout",
     "text": [
      "[Stock, ETF]\nCategories (2, object): [Stock, ETF]\n5338\n"
     ],
     "output_type": "stream"
    }
   ],
   "source": [
    "print(fulldata['Security'].unique())\n",
    "\n",
    "print(len(fulldata['Ticker'].unique()))"
   ]
  },
  {
   "cell_type": "markdown",
   "metadata": {},
   "source": [
    "**Exercise:** How many of the different ticker symbols are ETFs?\n",
    "\n",
    "\\answerlines{5}"
   ]
  },
  {
   "cell_type": "code",
   "execution_count": 31,
   "outputs": [
    {
     "name": "stdout",
     "text": [
      "1642\n"
     ],
     "output_type": "stream"
    }
   ],
   "source": [
    "print(len(fulldata[fulldata[\"Security\"] == \"ETF\"][\"Ticker\"].unique()))\n"
   ],
   "metadata": {
    "collapsed": false,
    "pycharm": {
     "name": "#%%\n",
     "is_executing": false
    }
   }
  },
  {
   "cell_type": "markdown",
   "metadata": {},
   "source": [
    "\\newpage\n",
    "\n",
    "**Exercise:** Execute the commands below, and discuss what you find."
   ]
  },
  {
   "cell_type": "code",
   "execution_count": 32,
   "metadata": {
    "pycharm": {
     "is_executing": false
    }
   },
   "outputs": [
    {
     "name": "stdout",
     "text": [
      "62    5147\n55      13\n3        9\n35       6\n60       6\n57       6\n47       6\n24       5\n37       5\n33       5\n48       5\n8        5\n11       5\n15       5\n45       5\n61       4\n20       4\n1        4\n5        4\n42       4\n38       4\n34       4\n32       4\n14       4\n28       4\n40       3\n9        3\n4        3\n2        3\n51       3\n6        3\n10       3\n22       3\n54       3\n46       3\n39       2\n7        2\n56       2\n23       2\n27       2\n17       2\n13       2\n44       2\n25       2\n16       2\n12       2\n58       2\n43       1\n64       1\n52       1\n59       1\n50       1\n26       1\n21       1\n29       1\n41       1\n53       1\n63       1\nName: Date, dtype: int64\nTPYP",
      "\n"
     ],
     "output_type": "stream"
    }
   ],
   "source": [
    "fulldata['Date'].unique()\n",
    "print(fulldata.groupby('Ticker')['Date'].\\\n",
    "  count().value_counts())\n",
    "print(fulldata.groupby('Ticker')['Date'].\\\n",
    "  count().idxmax())"
   ]
  },
  {
   "cell_type": "code",
   "execution_count": 33,
   "outputs": [
    {
     "data": {
      "text/plain": "             Date Security Ticker  McapRank  TurnRank  VolatilityRank  \\\n72688  2017-01-23      ETF   JUNE       NaN       NaN             4.0   \n72689  2017-01-23      ETF   JUNE       1.0       4.0             4.0   \n283006 2017-03-21      ETF   TPYP       NaN       NaN             3.0   \n283007 2017-03-21      ETF   TPYP       2.0       2.0             3.0   \n309221 2017-03-28      ETF   TPYP       NaN       NaN             2.0   \n309222 2017-03-28      ETF   TPYP       2.0       2.0             2.0   \n\n        PriceRank  LitVol('000)  OrderVol('000)  Hidden  TradesForHidden  \\\n72688         NaN          3.09       22038.008     6.0             12.0   \n72689         2.0          3.09       22038.008     6.0             12.0   \n283006        NaN         15.05       27806.710    24.0             56.0   \n283007        1.0         15.05       27806.710    24.0             56.0   \n309221        NaN         11.55       12542.754     4.0             28.0   \n309222        1.0         11.55       12542.754     4.0             28.0   \n\n        HiddenVol('000)  TradeVolForHidden('000)  Cancels  LitTrades  OddLots  \\\n72688              1.00                     4.09  26860.0        6.0      2.0   \n72689              1.00                     4.09  26860.0        6.0      2.0   \n283006             3.25                    18.30  13836.0       32.0      2.0   \n283007             3.25                    18.30  13836.0       32.0      2.0   \n309221             0.60                    12.15   7102.0       24.0      0.0   \n309222             0.60                    12.15   7102.0       24.0      0.0   \n\n        TradesForOddLots  OddLotVol('000)  TradeVolForOddLots('000)  \n72688               12.0            0.154                      4.09  \n72689               12.0            0.154                      4.09  \n283006              56.0            0.050                     18.30  \n283007              56.0            0.050                     18.30  \n309221              28.0            0.000                     12.15  \n309222              28.0            0.000                     12.15  ",
      "text/html": "<div>\n<style scoped>\n    .dataframe tbody tr th:only-of-type {\n        vertical-align: middle;\n    }\n\n    .dataframe tbody tr th {\n        vertical-align: top;\n    }\n\n    .dataframe thead th {\n        text-align: right;\n    }\n</style>\n<table border=\"1\" class=\"dataframe\">\n  <thead>\n    <tr style=\"text-align: right;\">\n      <th></th>\n      <th>Date</th>\n      <th>Security</th>\n      <th>Ticker</th>\n      <th>McapRank</th>\n      <th>TurnRank</th>\n      <th>VolatilityRank</th>\n      <th>PriceRank</th>\n      <th>LitVol('000)</th>\n      <th>OrderVol('000)</th>\n      <th>Hidden</th>\n      <th>TradesForHidden</th>\n      <th>HiddenVol('000)</th>\n      <th>TradeVolForHidden('000)</th>\n      <th>Cancels</th>\n      <th>LitTrades</th>\n      <th>OddLots</th>\n      <th>TradesForOddLots</th>\n      <th>OddLotVol('000)</th>\n      <th>TradeVolForOddLots('000)</th>\n    </tr>\n  </thead>\n  <tbody>\n    <tr>\n      <th>72688</th>\n      <td>2017-01-23</td>\n      <td>ETF</td>\n      <td>JUNE</td>\n      <td>NaN</td>\n      <td>NaN</td>\n      <td>4.0</td>\n      <td>NaN</td>\n      <td>3.09</td>\n      <td>22038.008</td>\n      <td>6.0</td>\n      <td>12.0</td>\n      <td>1.00</td>\n      <td>4.09</td>\n      <td>26860.0</td>\n      <td>6.0</td>\n      <td>2.0</td>\n      <td>12.0</td>\n      <td>0.154</td>\n      <td>4.09</td>\n    </tr>\n    <tr>\n      <th>72689</th>\n      <td>2017-01-23</td>\n      <td>ETF</td>\n      <td>JUNE</td>\n      <td>1.0</td>\n      <td>4.0</td>\n      <td>4.0</td>\n      <td>2.0</td>\n      <td>3.09</td>\n      <td>22038.008</td>\n      <td>6.0</td>\n      <td>12.0</td>\n      <td>1.00</td>\n      <td>4.09</td>\n      <td>26860.0</td>\n      <td>6.0</td>\n      <td>2.0</td>\n      <td>12.0</td>\n      <td>0.154</td>\n      <td>4.09</td>\n    </tr>\n    <tr>\n      <th>283006</th>\n      <td>2017-03-21</td>\n      <td>ETF</td>\n      <td>TPYP</td>\n      <td>NaN</td>\n      <td>NaN</td>\n      <td>3.0</td>\n      <td>NaN</td>\n      <td>15.05</td>\n      <td>27806.710</td>\n      <td>24.0</td>\n      <td>56.0</td>\n      <td>3.25</td>\n      <td>18.30</td>\n      <td>13836.0</td>\n      <td>32.0</td>\n      <td>2.0</td>\n      <td>56.0</td>\n      <td>0.050</td>\n      <td>18.30</td>\n    </tr>\n    <tr>\n      <th>283007</th>\n      <td>2017-03-21</td>\n      <td>ETF</td>\n      <td>TPYP</td>\n      <td>2.0</td>\n      <td>2.0</td>\n      <td>3.0</td>\n      <td>1.0</td>\n      <td>15.05</td>\n      <td>27806.710</td>\n      <td>24.0</td>\n      <td>56.0</td>\n      <td>3.25</td>\n      <td>18.30</td>\n      <td>13836.0</td>\n      <td>32.0</td>\n      <td>2.0</td>\n      <td>56.0</td>\n      <td>0.050</td>\n      <td>18.30</td>\n    </tr>\n    <tr>\n      <th>309221</th>\n      <td>2017-03-28</td>\n      <td>ETF</td>\n      <td>TPYP</td>\n      <td>NaN</td>\n      <td>NaN</td>\n      <td>2.0</td>\n      <td>NaN</td>\n      <td>11.55</td>\n      <td>12542.754</td>\n      <td>4.0</td>\n      <td>28.0</td>\n      <td>0.60</td>\n      <td>12.15</td>\n      <td>7102.0</td>\n      <td>24.0</td>\n      <td>0.0</td>\n      <td>28.0</td>\n      <td>0.000</td>\n      <td>12.15</td>\n    </tr>\n    <tr>\n      <th>309222</th>\n      <td>2017-03-28</td>\n      <td>ETF</td>\n      <td>TPYP</td>\n      <td>2.0</td>\n      <td>2.0</td>\n      <td>2.0</td>\n      <td>1.0</td>\n      <td>11.55</td>\n      <td>12542.754</td>\n      <td>4.0</td>\n      <td>28.0</td>\n      <td>0.60</td>\n      <td>12.15</td>\n      <td>7102.0</td>\n      <td>24.0</td>\n      <td>0.0</td>\n      <td>28.0</td>\n      <td>0.000</td>\n      <td>12.15</td>\n    </tr>\n  </tbody>\n</table>\n</div>"
     },
     "metadata": {},
     "output_type": "execute_result",
     "execution_count": 33
    }
   ],
   "source": [
    "fulldata[fulldata.duplicated(subset=('Date','Ticker'),keep=False)]"
   ],
   "metadata": {
    "collapsed": false,
    "pycharm": {
     "name": "#%%\n",
     "is_executing": false
    }
   }
  },
  {
   "cell_type": "markdown",
   "metadata": {},
   "source": [
    "\\answerlines{10}"
   ]
  },
  {
   "cell_type": "markdown",
   "metadata": {},
   "source": [
    "We can remove the duplicated rows using the following command. "
   ]
  },
  {
   "cell_type": "code",
   "execution_count": 34,
   "metadata": {
    "pycharm": {
     "is_executing": false
    }
   },
   "outputs": [],
   "source": [
    "fulldata = fulldata.drop_duplicates(\n",
    "  subset=('Date','Ticker'), keep='last')"
   ]
  },
  {
   "cell_type": "markdown",
   "metadata": {},
   "source": [
    "\\newpage\n",
    "## Columns 4 through 7: Rank Variables {-}\n",
    "\n",
    "The next four columns provide ranks of the stocks/ETFs\n",
    "with respect to key attributes of Market Capitalization,\n",
    "Turnover, Volatility, and Price.\n",
    "\n",
    "In general, we would prefer to start with data in its\n",
    "most \"raw\" format, and one could construct variables such\n",
    "as these from that data. Alas, we are often left to work\n",
    "with what is avaiable."
   ]
  },
  {
   "cell_type": "markdown",
   "metadata": {},
   "source": [
    "**Exercise:** Inspect the output of\n",
    "\n"
   ]
  },
  {
   "cell_type": "code",
   "execution_count": 35,
   "outputs": [],
   "source": [
    "fulldata.groupby(by=['Date','Security',\\\n",
    "    'VolatilityRank'])['Security'].count()\n",
    "None"
   ],
   "metadata": {
    "collapsed": false,
    "pycharm": {
     "name": "#%%\n",
     "is_executing": false
    }
   }
  },
  {
   "cell_type": "markdown",
   "metadata": {},
   "source": [
    "What does this tell us about the structure of these variables? Why should we be very careful with these variables?\n",
    "\n",
    "\\answerlines{10}"
   ]
  },
  {
   "cell_type": "markdown",
   "metadata": {},
   "source": [
    "\\newpage\n",
    "\n",
    "We change these into **ordered categorical variables** to reflect their ordinal nature."
   ]
  },
  {
   "cell_type": "code",
   "execution_count": 36,
   "metadata": {
    "pycharm": {
     "is_executing": false
    }
   },
   "outputs": [],
   "source": [
    "fulldata = fulldata.copy()\n",
    "fulldata['McapRank'] = fulldata['McapRank'].\\\n",
    "  astype('category').cat.as_ordered()\n",
    "fulldata['TurnRank'] = fulldata['TurnRank'].\\\n",
    "  astype('category').cat.as_ordered()\n",
    "fulldata['VolatilityRank'] = \\\n",
    "  fulldata['VolatilityRank'].\\\n",
    "    astype('category').cat.as_ordered()\n",
    "fulldata['PriceRank'] = fulldata['PriceRank'].\\\n",
    "  astype('category').cat.as_ordered()"
   ]
  },
  {
   "cell_type": "markdown",
   "metadata": {},
   "source": [
    "\\newpage\n",
    "## Columns 8 through 19: The Count Variables {-}\n",
    "\n",
    "The remaining column in the data set consist of trade and\n",
    "share counts of different types.\n",
    "\n",
    "Note that some of the volume counts are reported in 1000's\n",
    "of shares, hence there are non-integer values among the counts."
   ]
  },
  {
   "cell_type": "markdown",
   "metadata": {},
   "source": [
    "**Exercise:** Execute the command below and comment on the results. It is especially important to focus on extreme or impossible values."
   ]
  },
  {
   "cell_type": "code",
   "execution_count": 37,
   "metadata": {
    "pycharm": {
     "is_executing": false
    }
   },
   "outputs": [
    {
     "name": "stdout",
     "text": [
      "             Date Security Ticker McapRank TurnRank VolatilityRank PriceRank  \\\n472    2017-01-03    Stock  BRK.A     10.0      1.0           10.0      10.0   \n5718   2017-01-04    Stock  BRK.A     10.0      1.0            1.0      10.0   \n6645   2017-01-04    Stock   GLOW      1.0      1.0           10.0       1.0   \n10967  2017-01-05    Stock  BRK.A     10.0      1.0            1.0      10.0   \n16216  2017-01-06    Stock  BRK.A     10.0      1.0            1.0      10.0   \n...           ...      ...    ...      ...      ...            ...       ...   \n299805 2017-03-27    Stock    CUO      2.0      2.0           10.0       6.0   \n304659 2017-03-28    Stock  BRK.A     10.0      1.0            1.0      10.0   \n309902 2017-03-29    Stock  BRK.A     10.0      1.0            1.0      10.0   \n315146 2017-03-30    Stock  BRK.A     10.0      1.0           10.0      10.0   \n320389 2017-03-31    Stock  BRK.A     10.0      1.0            1.0      10.0   \n\n        LitVol('000)  OrderVol('000)  Hidden  TradesForHidden  \\\n472            0.241         150.520   -17.0            245.0   \n5718           0.132         132.361   -36.0            140.0   \n6645           2.403         625.217    -3.0             11.0   \n10967          0.113         149.920   -23.0            113.0   \n16216          0.077         133.671   -10.0             77.0   \n...              ...             ...     ...              ...   \n299805         0.150          58.920    -5.0              3.0   \n304659         0.263         173.705   -40.0            271.0   \n309902         0.160          92.407   -35.0            163.0   \n315146         0.179          76.995    -8.0            192.0   \n320389         0.145          75.159   -18.0            145.0   \n\n        HiddenVol('000)  TradeVolForHidden('000)   Cancels  LitTrades  \\\n472              -0.017                    0.247  106557.0      212.0   \n5718             -0.044                    0.148   93211.0       66.0   \n6645             -0.880                    2.503     253.0        4.0   \n10967            -0.031                    0.118  105992.0       71.0   \n16216            -0.018                    0.081   98153.0       51.0   \n...                 ...                      ...       ...        ...   \n299805           -0.568                    0.150     435.0        1.0   \n304659           -0.041                    0.273  112775.0      188.0   \n309902           -0.039                    0.171   52719.0      104.0   \n315146           -0.008                    0.194   46383.0      155.0   \n320389           -0.024                    0.151   48373.0      114.0   \n\n        OddLots  TradesForOddLots  OddLotVol('000)  TradeVolForOddLots('000)  \n472         0.0             218.0            0.000                     0.219  \n5718        0.0              82.0            0.000                     0.082  \n6645        0.0               5.0            0.000                     0.700  \n10967       0.0              76.0            0.000                     0.076  \n16216       0.0              55.0            0.000                     0.055  \n...         ...               ...              ...                       ...  \n299805      1.0               1.0            0.045                     0.045  \n304659      0.0             198.0            0.000                     0.199  \n309902      0.0             115.0            0.000                     0.115  \n315146      0.0             170.0            0.000                     0.171  \n320389      0.0             120.0            0.000                     0.120  \n\n[86 rows x 19 columns]\n"
     ],
     "output_type": "stream"
    }
   ],
   "source": [
    "fulldata.describe()\n",
    "None\n",
    "print(fulldata[fulldata[\"Hidden\"] < 0])"
   ]
  },
  {
   "cell_type": "markdown",
   "metadata": {},
   "source": [
    "\\answerlines{13}"
   ]
  },
  {
   "cell_type": "markdown",
   "metadata": {},
   "source": [
    "\\newpage\n",
    "\n",
    "Of course, graphical tools are useful for understanding the\n",
    "properties of variables. This topic will be covered more\n",
    "fully later, but here we consider a classic\n",
    "approach: the **boxplot**:"
   ]
  },
  {
   "cell_type": "code",
   "execution_count": 38,
   "metadata": {
    "pycharm": {
     "is_executing": false
    }
   },
   "outputs": [
    {
     "name": "stderr",
     "text": [
      "C:\\Users\\invok\\.conda\\envs\\QuantBase\\lib\\site-packages\\pandas\\core\\series.py:853: RuntimeWarning: divide by zero encountered in log\n  result = getattr(ufunc, method)(*inputs, **kwargs)\nC:\\Users\\invok\\.conda\\envs\\QuantBase\\lib\\site-packages\\pandas\\core\\series.py:853: RuntimeWarning: invalid value encountered in log\n  result = getattr(ufunc, method)(*inputs, **kwargs)\n"
     ],
     "output_type": "stream"
    },
    {
     "data": {
      "text/plain": "<Figure size 360x216 with 1 Axes>",
      "image/png": "[encoded data removed]"
     },
     "metadata": {
      "needs_background": "light"
     },
     "output_type": "display_data"
    }
   ],
   "source": [
    "plt.figure(figsize=(5,3))\n",
    "plt.boxplot(np.log(fulldata['Hidden'])\\\n",
    "    .dropna(),labels=[\"\"], vert=False)\n",
    "plt.xlabel(\"Log Count of Hidden Trades\")\n",
    "plt.show()"
   ]
  },
  {
   "cell_type": "markdown",
   "metadata": {},
   "source": [
    "\\newpage\n",
    "\n",
    "The \"box\" of the plot extends from the 25th to the 75th percentile\n",
    "of the data, while the solid line in the middle of the box is at the\n",
    "median. The two \"arms\" extend to the minimum and maximum value,\n",
    "**except** that any value labelled an **outlier** is\n",
    "plotted separately.\n",
    "\n",
    "**Exercise:** How is an outlier defined in this case?\n",
    "\n",
    "\\answerlines{5}\n",
    "\n",
    "**Exercise:** Why was the logarithm of the variable utilized? What\n",
    "issues did that create?\n",
    "\n",
    "\\answerlines{10}"
   ]
  },
  {
   "cell_type": "markdown",
   "metadata": {},
   "source": [
    "\\newpage"
   ]
  },
  {
   "cell_type": "markdown",
   "metadata": {},
   "source": [
    "**Exercise:** Consider the outlier in the previous plot. Is this observation\n",
    "also extreme in the other variables? Can you find the source of this behavior?\n",
    "\n",
    "\\answerlines{8}"
   ]
  },
  {
   "cell_type": "code",
   "execution_count": 74,
   "outputs": [
    {
     "traceback": [
      "\u001b[1;31m---------------------------------------------------------------------------\u001b[0m",
      "\u001b[1;31mKeyError\u001b[0m                                  Traceback (most recent call last)",
      "\u001b[1;32m~\\.conda\\envs\\QuantBase\\lib\\site-packages\\pandas\\core\\indexes\\base.py\u001b[0m in \u001b[0;36mget_loc\u001b[1;34m(self, key, method, tolerance)\u001b[0m\n\u001b[0;32m   2889\u001b[0m             \u001b[1;32mtry\u001b[0m\u001b[1;33m:\u001b[0m\u001b[1;33m\u001b[0m\u001b[1;33m\u001b[0m\u001b[0m\n\u001b[1;32m-> 2890\u001b[1;33m                 \u001b[1;32mreturn\u001b[0m \u001b[0mself\u001b[0m\u001b[1;33m.\u001b[0m\u001b[0m_engine\u001b[0m\u001b[1;33m.\u001b[0m\u001b[0mget_loc\u001b[0m\u001b[1;33m(\u001b[0m\u001b[0mkey\u001b[0m\u001b[1;33m)\u001b[0m\u001b[1;33m\u001b[0m\u001b[1;33m\u001b[0m\u001b[0m\n\u001b[0m\u001b[0;32m   2891\u001b[0m             \u001b[1;32mexcept\u001b[0m \u001b[0mKeyError\u001b[0m\u001b[1;33m:\u001b[0m\u001b[1;33m\u001b[0m\u001b[1;33m\u001b[0m\u001b[0m\n",
      "\u001b[1;32mpandas\\_libs\\index.pyx\u001b[0m in \u001b[0;36mpandas._libs.index.IndexEngine.get_loc\u001b[1;34m()\u001b[0m\n",
      "\u001b[1;32mpandas\\_libs\\index.pyx\u001b[0m in \u001b[0;36mpandas._libs.index.IndexEngine.get_loc\u001b[1;34m()\u001b[0m\n",
      "\u001b[1;32mpandas\\_libs\\hashtable_class_helper.pxi\u001b[0m in \u001b[0;36mpandas._libs.hashtable.PyObjectHashTable.get_item\u001b[1;34m()\u001b[0m\n",
      "\u001b[1;32mpandas\\_libs\\hashtable_class_helper.pxi\u001b[0m in \u001b[0;36mpandas._libs.hashtable.PyObjectHashTable.get_item\u001b[1;34m()\u001b[0m\n",
      "\u001b[1;31mKeyError\u001b[0m: 212803",
      "\nDuring handling of the above exception, another exception occurred:\n",
      "\u001b[1;31mKeyError\u001b[0m                                  Traceback (most recent call last)",
      "\u001b[1;32m<ipython-input-74-bbad26231fdd>\u001b[0m in \u001b[0;36m<module>\u001b[1;34m\u001b[0m\n\u001b[0;32m      1\u001b[0m \u001b[0moutlier_index\u001b[0m \u001b[1;33m=\u001b[0m \u001b[0mfulldata\u001b[0m\u001b[1;33m[\u001b[0m\u001b[1;34m\"Hidden\"\u001b[0m\u001b[1;33m]\u001b[0m\u001b[1;33m.\u001b[0m\u001b[0midxmax\u001b[0m\u001b[1;33m(\u001b[0m\u001b[1;33m)\u001b[0m\u001b[1;33m\u001b[0m\u001b[1;33m\u001b[0m\u001b[0m\n\u001b[1;32m----> 2\u001b[1;33m \u001b[0mfulldata\u001b[0m\u001b[1;33m[\u001b[0m\u001b[1;33m:\u001b[0m\u001b[1;33m]\u001b[0m\u001b[1;33m[\u001b[0m\u001b[0moutlier_index\u001b[0m\u001b[1;33m]\u001b[0m\u001b[1;33m\u001b[0m\u001b[1;33m\u001b[0m\u001b[0m\n\u001b[0m",
      "\u001b[1;32m~\\.conda\\envs\\QuantBase\\lib\\site-packages\\pandas\\core\\frame.py\u001b[0m in \u001b[0;36m__getitem__\u001b[1;34m(self, key)\u001b[0m\n\u001b[0;32m   2973\u001b[0m             \u001b[1;32mif\u001b[0m \u001b[0mself\u001b[0m\u001b[1;33m.\u001b[0m\u001b[0mcolumns\u001b[0m\u001b[1;33m.\u001b[0m\u001b[0mnlevels\u001b[0m \u001b[1;33m>\u001b[0m \u001b[1;36m1\u001b[0m\u001b[1;33m:\u001b[0m\u001b[1;33m\u001b[0m\u001b[1;33m\u001b[0m\u001b[0m\n\u001b[0;32m   2974\u001b[0m                 \u001b[1;32mreturn\u001b[0m \u001b[0mself\u001b[0m\u001b[1;33m.\u001b[0m\u001b[0m_getitem_multilevel\u001b[0m\u001b[1;33m(\u001b[0m\u001b[0mkey\u001b[0m\u001b[1;33m)\u001b[0m\u001b[1;33m\u001b[0m\u001b[1;33m\u001b[0m\u001b[0m\n\u001b[1;32m-> 2975\u001b[1;33m             \u001b[0mindexer\u001b[0m \u001b[1;33m=\u001b[0m \u001b[0mself\u001b[0m\u001b[1;33m.\u001b[0m\u001b[0mcolumns\u001b[0m\u001b[1;33m.\u001b[0m\u001b[0mget_loc\u001b[0m\u001b[1;33m(\u001b[0m\u001b[0mkey\u001b[0m\u001b[1;33m)\u001b[0m\u001b[1;33m\u001b[0m\u001b[1;33m\u001b[0m\u001b[0m\n\u001b[0m\u001b[0;32m   2976\u001b[0m             \u001b[1;32mif\u001b[0m \u001b[0mis_integer\u001b[0m\u001b[1;33m(\u001b[0m\u001b[0mindexer\u001b[0m\u001b[1;33m)\u001b[0m\u001b[1;33m:\u001b[0m\u001b[1;33m\u001b[0m\u001b[1;33m\u001b[0m\u001b[0m\n\u001b[0;32m   2977\u001b[0m                 \u001b[0mindexer\u001b[0m \u001b[1;33m=\u001b[0m \u001b[1;33m[\u001b[0m\u001b[0mindexer\u001b[0m\u001b[1;33m]\u001b[0m\u001b[1;33m\u001b[0m\u001b[1;33m\u001b[0m\u001b[0m\n",
      "\u001b[1;32m~\\.conda\\envs\\QuantBase\\lib\\site-packages\\pandas\\core\\indexes\\base.py\u001b[0m in \u001b[0;36mget_loc\u001b[1;34m(self, key, method, tolerance)\u001b[0m\n\u001b[0;32m   2890\u001b[0m                 \u001b[1;32mreturn\u001b[0m \u001b[0mself\u001b[0m\u001b[1;33m.\u001b[0m\u001b[0m_engine\u001b[0m\u001b[1;33m.\u001b[0m\u001b[0mget_loc\u001b[0m\u001b[1;33m(\u001b[0m\u001b[0mkey\u001b[0m\u001b[1;33m)\u001b[0m\u001b[1;33m\u001b[0m\u001b[1;33m\u001b[0m\u001b[0m\n\u001b[0;32m   2891\u001b[0m             \u001b[1;32mexcept\u001b[0m \u001b[0mKeyError\u001b[0m\u001b[1;33m:\u001b[0m\u001b[1;33m\u001b[0m\u001b[1;33m\u001b[0m\u001b[0m\n\u001b[1;32m-> 2892\u001b[1;33m                 \u001b[1;32mreturn\u001b[0m \u001b[0mself\u001b[0m\u001b[1;33m.\u001b[0m\u001b[0m_engine\u001b[0m\u001b[1;33m.\u001b[0m\u001b[0mget_loc\u001b[0m\u001b[1;33m(\u001b[0m\u001b[0mself\u001b[0m\u001b[1;33m.\u001b[0m\u001b[0m_maybe_cast_indexer\u001b[0m\u001b[1;33m(\u001b[0m\u001b[0mkey\u001b[0m\u001b[1;33m)\u001b[0m\u001b[1;33m)\u001b[0m\u001b[1;33m\u001b[0m\u001b[1;33m\u001b[0m\u001b[0m\n\u001b[0m\u001b[0;32m   2893\u001b[0m         \u001b[0mindexer\u001b[0m \u001b[1;33m=\u001b[0m \u001b[0mself\u001b[0m\u001b[1;33m.\u001b[0m\u001b[0mget_indexer\u001b[0m\u001b[1;33m(\u001b[0m\u001b[1;33m[\u001b[0m\u001b[0mkey\u001b[0m\u001b[1;33m]\u001b[0m\u001b[1;33m,\u001b[0m \u001b[0mmethod\u001b[0m\u001b[1;33m=\u001b[0m\u001b[0mmethod\u001b[0m\u001b[1;33m,\u001b[0m \u001b[0mtolerance\u001b[0m\u001b[1;33m=\u001b[0m\u001b[0mtolerance\u001b[0m\u001b[1;33m)\u001b[0m\u001b[1;33m\u001b[0m\u001b[1;33m\u001b[0m\u001b[0m\n\u001b[0;32m   2894\u001b[0m         \u001b[1;32mif\u001b[0m \u001b[0mindexer\u001b[0m\u001b[1;33m.\u001b[0m\u001b[0mndim\u001b[0m \u001b[1;33m>\u001b[0m \u001b[1;36m1\u001b[0m \u001b[1;32mor\u001b[0m \u001b[0mindexer\u001b[0m\u001b[1;33m.\u001b[0m\u001b[0msize\u001b[0m \u001b[1;33m>\u001b[0m \u001b[1;36m1\u001b[0m\u001b[1;33m:\u001b[0m\u001b[1;33m\u001b[0m\u001b[1;33m\u001b[0m\u001b[0m\n",
      "\u001b[1;32mpandas\\_libs\\index.pyx\u001b[0m in \u001b[0;36mpandas._libs.index.IndexEngine.get_loc\u001b[1;34m()\u001b[0m\n",
      "\u001b[1;32mpandas\\_libs\\index.pyx\u001b[0m in \u001b[0;36mpandas._libs.index.IndexEngine.get_loc\u001b[1;34m()\u001b[0m\n",
      "\u001b[1;32mpandas\\_libs\\hashtable_class_helper.pxi\u001b[0m in \u001b[0;36mpandas._libs.hashtable.PyObjectHashTable.get_item\u001b[1;34m()\u001b[0m\n",
      "\u001b[1;32mpandas\\_libs\\hashtable_class_helper.pxi\u001b[0m in \u001b[0;36mpandas._libs.hashtable.PyObjectHashTable.get_item\u001b[1;34m()\u001b[0m\n",
      "\u001b[1;31mKeyError\u001b[0m: 212803"
     ],
     "ename": "KeyError",
     "evalue": "212803",
     "output_type": "error"
    }
   ],
   "source": [
    "outlier_index = fulldata[\"Hidden\"].idxmax()"
   ],
   "metadata": {
    "collapsed": false,
    "pycharm": {
     "name": "#%%\n",
     "is_executing": false
    }
   }
  },
  {
   "cell_type": "markdown",
   "metadata": {},
   "source": [
    "**Exercise:** Parse the syntax, and comment on the output, of the following command."
   ]
  },
  {
   "cell_type": "code",
   "execution_count": 58,
   "metadata": {
    "pycharm": {
     "is_executing": false
    }
   },
   "outputs": [
    {
     "data": {
      "text/plain": "LitVol('000)                278303\nOrderVol('000)              298903\nHidden                      212803\nTradesForHidden             212803\nHiddenVol('000)             278303\nTradeVolForHidden('000)     278303\nCancels                     282946\nLitTrades                   212803\nOddLots                     212803\nTradesForOddLots            212803\nOddLotVol('000)             212803\nTradeVolForOddLots('000)    283173\ndtype: int64"
     },
     "metadata": {},
     "output_type": "execute_result",
     "execution_count": 58
    }
   ],
   "source": [
    "fulldata.iloc[:, 7:19].\\\n",
    "   apply(lambda x: x.idxmax())\n"
   ]
  },
  {
   "cell_type": "markdown",
   "metadata": {},
   "source": [
    "\\answerlines{7}"
   ]
  },
  {
   "cell_type": "markdown",
   "metadata": {},
   "source": [
    "\\newpage"
   ]
  },
  {
   "cell_type": "markdown",
   "metadata": {},
   "source": [
    "## Missing Data {-}\n",
    "\n",
    "Most data sets contain some amount of missing data, for\n",
    "many reasons.\n",
    "\n",
    "As a first step, it is important to recognize how your data set\n",
    "represents missing values, so that they are read in properly.\n",
    "\n",
    "In a `.csv` file such as that we are using here, it is common to\n",
    "simply have blank values to indiciate missingness, i.e., there are\n",
    "consecutive commas without a value between.\n",
    "\n",
    "The `read_csv()` function has an argument `na_values` which allows\n",
    "the user to specify strings that should be considered as missing\n",
    "values. By default, the following are converted into `NaN`:\n",
    "`‘’, ‘#N/A’, ‘#N/A N/A’, ‘#NA’, ‘-1.#IND’, ‘-1.#QNAN’, ‘-NaN’, ‘-nan’, ‘1.#IND’, ‘1.#QNAN’, ‘N/A’, ‘NA’, ‘NULL’, ‘NaN’, ‘n/a’, ‘nan’, ‘null’`.\n",
    "**Be careful:** It is not unusual for\n",
    "data sets to use numbers such as `-999` to indicate a missing value.\n",
    "\n",
    "Pandas uses `NaN` to represent missing values.\n",
    "\n",
    "\n",
    "\\newpage"
   ]
  },
  {
   "cell_type": "markdown",
   "metadata": {},
   "source": [
    "**Exercise:** Execute the following commands and discuss the results"
   ]
  },
  {
   "cell_type": "code",
   "execution_count": 78,
   "metadata": {
    "pycharm": {
     "is_executing": false
    }
   },
   "outputs": [
    {
     "data": {
      "text/plain": "77"
     },
     "metadata": {},
     "output_type": "execute_result",
     "execution_count": 78
    }
   ],
   "source": [
    "np.where(fulldata.isnull())\n",
    "len(np.unique(np.where(fulldata.isnull())[0]))\n"
   ]
  },
  {
   "cell_type": "markdown",
   "metadata": {},
   "source": [
    "\\answerlines{15}\n",
    "\n",
    "\\newpage\n",
    "\n",
    "The package `seaborn` has a function `heatmap()` that can be useful for inspecting any patterns in the missingness."
   ]
  },
  {
   "cell_type": "code",
   "execution_count": 79,
   "metadata": {
    "scrolled": true,
    "pycharm": {
     "is_executing": false
    }
   },
   "outputs": [
    {
     "data": {
      "text/plain": "<matplotlib.axes._subplots.AxesSubplot at 0x1de6671f208>"
     },
     "metadata": {},
     "output_type": "execute_result",
     "execution_count": 79
    },
    {
     "data": {
      "text/plain": "<Figure size 432x288 with 1 Axes>",
      "image/png": "[encoded data removed]"
     },
     "metadata": {
      "needs_background": "light"
     },
     "output_type": "display_data"
    }
   ],
   "source": [
    "import seaborn as sns\n",
    "sns.heatmap(fulldata.iloc[np.unique\\\n",
    "    (np.where(fulldata.isnull())[0]),:]\\\n",
    "    .isnull(),cbar=False)\n"
   ]
  },
  {
   "cell_type": "markdown",
   "metadata": {},
   "source": [
    "The `dropna` function will remove any row from the data frame with at least one `NaN` value."
   ]
  },
  {
   "cell_type": "code",
   "execution_count": 80,
   "metadata": {
    "pycharm": {
     "is_executing": false
    }
   },
   "outputs": [
    {
     "data": {
      "text/plain": "0"
     },
     "metadata": {},
     "output_type": "execute_result",
     "execution_count": 80
    }
   ],
   "source": [
    "fulldatacomplete = fulldata.dropna()\n",
    "len(np.unique(np.where(fulldatacomplete.\\\n",
    "        isnull())[0]))"
   ]
  },
  {
   "cell_type": "markdown",
   "metadata": {},
   "source": [
    "Working only with such data is referred to as **complete case analysis**.\n",
    "\n",
    "**Exercise:** Discuss potential drawbacks to complete case analyses.\n",
    "\n",
    "\\answerlines{14}"
   ]
  },
  {
   "cell_type": "markdown",
   "metadata": {},
   "source": [
    "**Exercise:** Consider the output of the following and comment on any features of the incomplete cases that may be releveant."
   ]
  },
  {
   "cell_type": "code",
   "execution_count": 82,
   "metadata": {
    "pycharm": {
     "is_executing": false
    }
   },
   "outputs": [
    {
     "data": {
      "text/plain": "            Date Security Ticker McapRank TurnRank VolatilityRank PriceRank  \\\n21303 2017-01-09    Stock   AXAR      NaN      NaN            1.0       NaN   \n48530 2017-01-17    Stock    FTI      NaN      NaN            4.0       NaN   \n59699 2017-01-19    Stock   MACQ      NaN      NaN            1.0       NaN   \n65651 2017-01-20    Stock   RDIB      NaN      NaN            1.0       NaN   \n70184 2017-01-23    Stock   MACQ      NaN      NaN            1.0       NaN   \n\n       LitVol('000)  OrderVol('000)   Hidden  TradesForHidden  \\\n21303         0.000          21.500      0.0              0.0   \n48530     11267.122      176892.554  10120.0          75314.0   \n59699         0.000           0.075      0.0              0.0   \n65651         0.000           1.223      0.0              0.0   \n70184         0.000           0.075      0.0              0.0   \n\n       HiddenVol('000)  TradeVolForHidden('000)   Cancels  LitTrades  OddLots  \\\n21303            0.000                    0.000      85.0        0.0      0.0   \n48530         2314.994                13504.012  617632.0    54296.0  12235.0   \n59699            0.000                    0.000       2.0        0.0      0.0   \n65651            0.000                    0.000       5.0        0.0      0.0   \n70184            0.000                    0.000       2.0        0.0      0.0   \n\n       TradesForOddLots  OddLotVol('000)  TradeVolForOddLots('000)  \n21303               0.0            0.000                     0.000  \n48530           63096.0          471.916                  8368.972  \n59699               0.0            0.000                     0.000  \n65651               0.0            0.000                     0.000  \n70184               0.0            0.000                     0.000  ",
      "text/html": "<div>\n<style scoped>\n    .dataframe tbody tr th:only-of-type {\n        vertical-align: middle;\n    }\n\n    .dataframe tbody tr th {\n        vertical-align: top;\n    }\n\n    .dataframe thead th {\n        text-align: right;\n    }\n</style>\n<table border=\"1\" class=\"dataframe\">\n  <thead>\n    <tr style=\"text-align: right;\">\n      <th></th>\n      <th>Date</th>\n      <th>Security</th>\n      <th>Ticker</th>\n      <th>McapRank</th>\n      <th>TurnRank</th>\n      <th>VolatilityRank</th>\n      <th>PriceRank</th>\n      <th>LitVol('000)</th>\n      <th>OrderVol('000)</th>\n      <th>Hidden</th>\n      <th>TradesForHidden</th>\n      <th>HiddenVol('000)</th>\n      <th>TradeVolForHidden('000)</th>\n      <th>Cancels</th>\n      <th>LitTrades</th>\n      <th>OddLots</th>\n      <th>TradesForOddLots</th>\n      <th>OddLotVol('000)</th>\n      <th>TradeVolForOddLots('000)</th>\n    </tr>\n  </thead>\n  <tbody>\n    <tr>\n      <th>21303</th>\n      <td>2017-01-09</td>\n      <td>Stock</td>\n      <td>AXAR</td>\n      <td>NaN</td>\n      <td>NaN</td>\n      <td>1.0</td>\n      <td>NaN</td>\n      <td>0.000</td>\n      <td>21.500</td>\n      <td>0.0</td>\n      <td>0.0</td>\n      <td>0.000</td>\n      <td>0.000</td>\n      <td>85.0</td>\n      <td>0.0</td>\n      <td>0.0</td>\n      <td>0.0</td>\n      <td>0.000</td>\n      <td>0.000</td>\n    </tr>\n    <tr>\n      <th>48530</th>\n      <td>2017-01-17</td>\n      <td>Stock</td>\n      <td>FTI</td>\n      <td>NaN</td>\n      <td>NaN</td>\n      <td>4.0</td>\n      <td>NaN</td>\n      <td>11267.122</td>\n      <td>176892.554</td>\n      <td>10120.0</td>\n      <td>75314.0</td>\n      <td>2314.994</td>\n      <td>13504.012</td>\n      <td>617632.0</td>\n      <td>54296.0</td>\n      <td>12235.0</td>\n      <td>63096.0</td>\n      <td>471.916</td>\n      <td>8368.972</td>\n    </tr>\n    <tr>\n      <th>59699</th>\n      <td>2017-01-19</td>\n      <td>Stock</td>\n      <td>MACQ</td>\n      <td>NaN</td>\n      <td>NaN</td>\n      <td>1.0</td>\n      <td>NaN</td>\n      <td>0.000</td>\n      <td>0.075</td>\n      <td>0.0</td>\n      <td>0.0</td>\n      <td>0.000</td>\n      <td>0.000</td>\n      <td>2.0</td>\n      <td>0.0</td>\n      <td>0.0</td>\n      <td>0.0</td>\n      <td>0.000</td>\n      <td>0.000</td>\n    </tr>\n    <tr>\n      <th>65651</th>\n      <td>2017-01-20</td>\n      <td>Stock</td>\n      <td>RDIB</td>\n      <td>NaN</td>\n      <td>NaN</td>\n      <td>1.0</td>\n      <td>NaN</td>\n      <td>0.000</td>\n      <td>1.223</td>\n      <td>0.0</td>\n      <td>0.0</td>\n      <td>0.000</td>\n      <td>0.000</td>\n      <td>5.0</td>\n      <td>0.0</td>\n      <td>0.0</td>\n      <td>0.0</td>\n      <td>0.000</td>\n      <td>0.000</td>\n    </tr>\n    <tr>\n      <th>70184</th>\n      <td>2017-01-23</td>\n      <td>Stock</td>\n      <td>MACQ</td>\n      <td>NaN</td>\n      <td>NaN</td>\n      <td>1.0</td>\n      <td>NaN</td>\n      <td>0.000</td>\n      <td>0.075</td>\n      <td>0.0</td>\n      <td>0.0</td>\n      <td>0.000</td>\n      <td>0.000</td>\n      <td>2.0</td>\n      <td>0.0</td>\n      <td>0.0</td>\n      <td>0.0</td>\n      <td>0.000</td>\n      <td>0.000</td>\n    </tr>\n  </tbody>\n</table>\n</div>"
     },
     "metadata": {},
     "output_type": "execute_result",
     "execution_count": 82
    }
   ],
   "source": [
    "fulldata.iloc[np.unique(np.where(fulldata.\\\n",
    "    isnull())[0]),:].head()"
   ]
  },
  {
   "cell_type": "markdown",
   "metadata": {},
   "source": [
    "\\answerlines{15}"
   ]
  }
 ],
 "metadata": {
  "kernelspec": {
   "display_name": "Python 3",
   "language": "python",
   "name": "python3"
  },
  "language_info": {
   "codemirror_mode": {
    "name": "ipython",
    "version": 3
   },
   "file_extension": ".py",
   "mimetype": "text/x-python",
   "name": "python",
   "nbconvert_exporter": "python",
   "pygments_lexer": "ipython3",
   "version": "3.7.3"
  },
  "pycharm": {
   "stem_cell": {
    "cell_type": "raw",
    "source": [],
    "metadata": {
     "collapsed": false
    }
   }
  }
 },
 "nbformat": 4,
 "nbformat_minor": 2
}