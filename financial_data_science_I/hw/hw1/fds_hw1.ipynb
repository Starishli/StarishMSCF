{
 "cells": [
  {
   "cell_type": "markdown",
   "metadata": {
    "collapsed": true,
    "pycharm": {
     "name": "#%% md\n"
    }
   },
   "source": [
    "# Fiancial Data Science I Homework 1\n",
    "\n",
    "*Decription of Variables*\n",
    "\n",
    "* PERMNO: CRSP Permanent Company Number\n",
    "* date: Date\n",
    "* TICKER: Ticker\n",
    "* COMNAM: Company Name\n",
    "* CUSIP: Cusip\n",
    "* BIDLO: Bid or Low\n",
    "* ASKHI: Ask or High\n",
    "* PRC: Price\n",
    "* BID: Closing Bid\n",
    "* ASK: Closing Ask\n",
    "* SHROUT: Number of Shares Outstanding (in thousands)\n",
    "* CFACPR: Cumulative Factor to Adjust Price\n",
    "\n",
    "*Preparing Data*"
   ]
  },
  {
   "cell_type": "code",
   "execution_count": 1,
   "outputs": [],
   "source": [
    "import pandas as pd\n",
    "import numpy as np\n",
    "import matplotlib.pyplot as plt\n",
    "import seaborn as sns\n",
    "\n",
    "\n",
    "full_data = pd.read_csv(\"fds_hw1.csv\")"
   ],
   "metadata": {
    "collapsed": false,
    "pycharm": {
     "name": "#%%\n",
     "is_executing": false
    }
   }
  },
  {
   "cell_type": "markdown",
   "source": [
    "### Question 1\n",
    "\n",
    "*How many records, i.e. (stock, day) combinations, does the downloaded data file contain, and how many variables (columns) are there?*\n",
    "\n",
    "**Ans:** There are 356 records and 12 variables in the data file.  "
   ],
   "metadata": {
    "collapsed": false,
    "pycharm": {
     "name": "#%% md\n"
    }
   }
  },
  {
   "cell_type": "code",
   "execution_count": 2,
   "outputs": [
    {
     "name": "stdout",
     "text": [
      "356\n12\n"
     ],
     "output_type": "stream"
    }
   ],
   "source": [
    "record_num = full_data.shape[0]\n",
    "var_num = full_data.shape[1]\n",
    "print(record_num)\n",
    "print(var_num)"
   ],
   "metadata": {
    "collapsed": false,
    "pycharm": {
     "name": "#%%\n",
     "is_executing": false
    }
   }
  },
  {
   "cell_type": "markdown",
   "source": [
    "### Question 2\n",
    "\n",
    "*We requested two different TICKERs. How many distinct TICKER values appeared in the data file? *\n",
    "\n",
    "**Ans:** There are 4 TICKER values in the data file. "
   ],
   "metadata": {
    "collapsed": false,
    "pycharm": {
     "name": "#%% md\n"
    }
   }
  },
  {
   "cell_type": "code",
   "execution_count": 3,
   "outputs": [
    {
     "name": "stdout",
     "text": [
      "4\n"
     ],
     "output_type": "stream"
    }
   ],
   "source": [
    "ticker_num = np.unique(full_data[\"TICKER\"]).shape[0]\n",
    "print(ticker_num)"
   ],
   "metadata": {
    "collapsed": false,
    "pycharm": {
     "name": "#%%\n",
     "is_executing": false
    }
   }
  },
  {
   "cell_type": "markdown",
   "source": [
    "*How many distinct CUSIP values appeared in the data file?*\n",
    "\n",
    "**Ans:** There are 2 CUSIP values in the data file."
   ],
   "metadata": {
    "collapsed": false,
    "pycharm": {
     "name": "#%% md\n"
    }
   }
  },
  {
   "cell_type": "code",
   "execution_count": 4,
   "outputs": [
    {
     "name": "stdout",
     "text": [
      "2\n"
     ],
     "output_type": "stream"
    }
   ],
   "source": [
    "cusip_num = np.unique(full_data[\"CUSIP\"]).shape[0]\n",
    "print(cusip_num)\n",
    " "
   ],
   "metadata": {
    "collapsed": false,
    "pycharm": {
     "name": "#%%\n",
     "is_executing": false
    }
   }
  },
  {
   "cell_type": "markdown",
   "source": [
    "### Question 3\n",
    "\n",
    "*Figure out why the TICKER (of M7037810) changed when it did.*\n",
    "\n",
    "**Ans:** In Aug 2003, Crystal Systems Solutions changed its company's name \n",
    "to Bluephoneix Solutions Ltd(see https://www.businesswire.com/news/home/20030810005010/en/Crystal-Systems-Solutions-New-Corporate-BluePhoenix-Solutions)\n",
    "and ticker from CRYS to BPHX. In Dec 2014, BluePhoenix Solutions Ltd. and Sophisticated Business Systems\n",
    "merged into a new combined company Modern Systems. (see https://modernsystems.com/bluephoenix-and-ateras-complete-merger-operating-as-modern-systems/).\n",
    "It had new ticker MDSY and company name MODSYS INTERNATIONAL LTD."
   ],
   "metadata": {
    "collapsed": false,
    "pycharm": {
     "name": "#%% md\n"
    }
   }
  },
  {
   "cell_type": "code",
   "execution_count": 5,
   "outputs": [
    {
     "name": "stdout",
     "text": [
      "         date TICKER                     COMNAM\n0    20000929   CRYS  CRYSTAL SYSTEMS SOLUTIONS\n35   20030829   BPHX  BLUEPHOENIX SOLUTIONS LTD\n171  20141231   MDSY  BLUEPHOENIX SOLUTIONS LTD\n172  20150130   MDSY   MODSYS INTERNATIONAL LTD\n"
     ],
     "output_type": "stream"
    }
   ],
   "source": [
    "ticker_change_log = full_data[\n",
    "    full_data.CUSIP == \"M7037810\"].loc[:, [\n",
    "    \"date\", \"TICKER\", \"COMNAM\"]].drop_duplicates(\n",
    "    subset=[\"TICKER\", \"COMNAM\"], keep=\"first\")\n",
    "print(ticker_change_log)"
   ],
   "metadata": {
    "collapsed": false,
    "pycharm": {
     "name": "#%%\n",
     "is_executing": false
    }
   }
  },
  {
   "cell_type": "markdown",
   "source": [
    "### Question 4\n",
    "\n",
    "*How many different values of the factor (CFACPR) exist in the data file?*\n",
    "\n",
    "**Ans:** There are 4 different values of the factor exist in the data file."
   ],
   "metadata": {
    "collapsed": false,
    "pycharm": {
     "name": "#%% md\n"
    }
   }
  },
  {
   "cell_type": "code",
   "execution_count": 6,
   "outputs": [
    {
     "name": "stdout",
     "text": [
      "4\n"
     ],
     "output_type": "stream"
    }
   ],
   "source": [
    "cfacpr_num = np.unique(full_data[\"CFACPR\"]).shape[0]\n",
    "print(cfacpr_num)"
   ],
   "metadata": {
    "collapsed": false,
    "pycharm": {
     "name": "#%%\n",
     "is_executing": false
    }
   }
  },
  {
   "cell_type": "markdown",
   "source": [
    "*Before dividing, check to see if there are any records for which the factor is missing (NA) but the price exists*\n",
    "\n",
    "**Ans:** There is no missing value for CFACPR."
   ],
   "metadata": {
    "collapsed": false,
    "pycharm": {
     "name": "#%% md\n"
    }
   }
  },
  {
   "cell_type": "code",
   "execution_count": 7,
   "outputs": [
    {
     "name": "stdout",
     "text": [
      "(array([], dtype=int64),)\n"
     ],
     "output_type": "stream"
    }
   ],
   "source": [
    "cfacpr_nan_index = np.where(np.isnan(full_data[\"CFACPR\"]))\n",
    "print(cfacpr_nan_index)"
   ],
   "metadata": {
    "collapsed": false,
    "pycharm": {
     "name": "#%%\n",
     "is_executing": false
    }
   }
  },
  {
   "cell_type": "markdown",
   "source": [
    "*Give an example of a stock and a day on which an adjustment had to be made (the factor is not 1).*\n",
    "\n",
    "**Ans:** A sample is BPHX at Feb 26. The price is 2.34, CFACPR is 0.25, PRCadj is 9.36."
   ],
   "metadata": {
    "collapsed": false,
    "pycharm": {
     "name": "#%% md\n"
    }
   }
  },
  {
   "cell_type": "code",
   "execution_count": 8,
   "outputs": [
    {
     "name": "stdout",
     "text": [
      "         date TICKER   PRC  CFACPR  PRCadj\n113  20100226   BPHX  2.34    0.25    9.36\n"
     ],
     "output_type": "stream"
    }
   ],
   "source": [
    "full_data[\"PRCadj\"] = full_data[\"PRC\"] / full_data[\"CFACPR\"]\n",
    "example_record = full_data[full_data.CFACPR \n",
    "                           != 1].loc[:, [\"date\", \"TICKER\", \"PRC\",\n",
    "                                         \"CFACPR\", \"PRCadj\"\n",
    "                                         ]].sample(random_state=0)\n",
    "\n",
    "print(example_record)"
   ],
   "metadata": {
    "collapsed": false,
    "pycharm": {
     "name": "#%%\n",
     "is_executing": false
    }
   }
  },
  {
   "cell_type": "markdown",
   "source": [
    "### Question 5\n",
    "\n",
    "*How many \"not available\" adjusted prices are there?*\n",
    "\n",
    "**Ans:** There is no \"not available\" adjusted price, as shown in Question 4."
   ],
   "metadata": {
    "collapsed": false,
    "pycharm": {
     "name": "#%% md\n"
    }
   }
  },
  {
   "cell_type": "markdown",
   "source": [
    "### Question 6\n",
    "\n",
    "*How many (unique dates) are there*\n",
    "\n",
    "**Ans:** There are 178 unique dates."
   ],
   "metadata": {
    "collapsed": false,
    "pycharm": {
     "name": "#%% md\n"
    }
   }
  },
  {
   "cell_type": "code",
   "execution_count": 9,
   "outputs": [
    {
     "name": "stdout",
     "text": [
      "178\n"
     ],
     "output_type": "stream"
    }
   ],
   "source": [
    "date_num = np.unique(full_data[\"date\"]).shape[0]\n",
    "print(date_num)"
   ],
   "metadata": {
    "collapsed": false,
    "pycharm": {
     "name": "#%%\n",
     "is_executing": false
    }
   }
  },
  {
   "cell_type": "markdown",
   "source": [
    "### Question 7\n",
    "\n",
    "*Look up the price information on Yahoo! Finance for the negative prices in the year 2014 in our data set. What common feature do you notice for the negative prices?*\n",
    "\n",
    "**Ans:** On May 30 and Sep 30, we have negative return for BPHX. Unfortuantely, I am \n",
    "not able to find historical data for BPHX. I check the daily stock data of BPHX through\n",
    "WRDS and find that both the volumes are zero. That means no order was filled in the two days,\n",
    "although there were some bids and asks. Hence, the price is shown\n",
    "as negative and is calculated as the average of closing bid and closing ask.     "
   ],
   "metadata": {
    "collapsed": false,
    "pycharm": {
     "name": "#%% md\n"
    }
   }
  },
  {
   "cell_type": "code",
   "execution_count": 10,
   "outputs": [
    {
     "name": "stdout",
     "text": [
      "     PERMNO      date TICKER                     COMNAM     CUSIP   BIDLO  \\\n164   84415  20140530   BPHX  BLUEPHOENIX SOLUTIONS LTD  M7037810  4.1000   \n168   84415  20140930   BPHX  BLUEPHOENIX SOLUTIONS LTD  M7037810  3.5501   \n\n     ASKHI    PRC   BID   ASK  SHROUT  CFACPR  PRCadj  \n164   4.30 -4.100  4.05  4.15   11468     1.0  -4.100  \n168   3.81 -3.595  3.50  3.69   11621     1.0  -3.595  ",
      "\n"
     ],
     "output_type": "stream"
    }
   ],
   "source": [
    "negative_prc_df = full_data[((full_data.PRC < 0) \n",
    "                            | (full_data.PRCadj < 0)) \n",
    "                            & (full_data.date >= 20140101) \n",
    "                            & (full_data.date <= 20141231)]\n",
    "print(negative_prc_df)\n",
    "\n",
    "# convert negative price to absolute value\n",
    "full_data[\"PRC\"] = full_data[\"PRC\"].abs()\n",
    "full_data[\"PRCadj\"] = full_data[\"PRCadj\"].abs()"
   ],
   "metadata": {
    "collapsed": false,
    "pycharm": {
     "name": "#%%\n",
     "is_executing": false
    }
   }
  },
  {
   "cell_type": "markdown",
   "source": [
    "### Question 8\n",
    "\n",
    "*Were there any cases in which the Closing Bid (BID) is larger than the Closing Ask (ASK)? If so, oﬀer an explanation for why that happened.*\n",
    "\n",
    "**Ans:** There is one day when Closing Bid is larger than Closing Ask.\n",
    "That is BBY at Nov 30, 2006. That may because some limit orders entered exactly\n",
    "after the market closed. These orders would not be filled until the market opened again. "
   ],
   "metadata": {
    "collapsed": false,
    "pycharm": {
     "name": "#%% md\n"
    }
   }
  },
  {
   "cell_type": "code",
   "execution_count": 11,
   "outputs": [
    {
     "name": "stdout",
     "text": [
      "     PERMNO      date TICKER                COMNAM    CUSIP  BIDLO  ASKHI  \\\n252   85914  20061130    BBY  BEST BUY COMPANY INC  8651610  51.39  55.84   \n\n       PRC    BID    ASK  SHROUT  CFACPR  PRCadj  \n252  54.97  54.92  54.91  480250     1.0   54.97  \n"
     ],
     "output_type": "stream"
    }
   ],
   "source": [
    "bid_ge_ask_df = full_data[full_data.BID > full_data.ASK]\n",
    "print(bid_ge_ask_df)"
   ],
   "metadata": {
    "collapsed": false,
    "pycharm": {
     "name": "#%%\n",
     "is_executing": false
    }
   }
  },
  {
   "cell_type": "markdown",
   "source": [
    "### Question 9\n",
    "\n",
    "*Calculate 3-month return*\n",
    "\n",
    "**Ans:** column *momentum* shows the 3-month return available for each month and each stock."
   ],
   "metadata": {
    "collapsed": false,
    "pycharm": {
     "name": "#%% md\n"
    }
   }
  },
  {
   "cell_type": "code",
   "execution_count": 12,
   "outputs": [],
   "source": [
    "momentum_1 = (full_data[full_data.CUSIP == \"M7037810\"][\"PRCadj\"] / \n",
    "              full_data[full_data.CUSIP == \"M7037810\"][\"PRCadj\"].shift(3) \n",
    "              - 1).shift(1)\n",
    "\n",
    "momentum_2 = (full_data[full_data.CUSIP == \"8651610\"][\"PRCadj\"] / \n",
    "              full_data[full_data.CUSIP == \"8651610\"][\"PRCadj\"].shift(3) \n",
    "              - 1).shift(1)\n",
    "\n",
    "momentum = pd.concat([momentum_1, momentum_2])\n",
    "full_data[\"momentum\"] = momentum"
   ],
   "metadata": {
    "collapsed": false,
    "pycharm": {
     "name": "#%%\n",
     "is_executing": false
    }
   }
  },
  {
   "cell_type": "markdown",
   "source": [
    "### Question 10\n",
    "\n",
    "*Plot and comment on any structure that you see*\n",
    "\n",
    "**Ans:** The following code plots the desired figures. From the figures, we find that \n",
    "for both stocks, there is no significant relationship between sign of return of the following\n",
    "month and distribution of the momentum factor. Both distributions in the same figure\n",
    "are roughly the same. Hence, we can draw the conclusion that the 3-month momentum \n",
    "factor is not suitable for predicting the sign of return for the two stocks. "
   ],
   "metadata": {
    "collapsed": false,
    "pycharm": {
     "name": "#%% md\n"
    }
   }
  },
  {
   "cell_type": "code",
   "execution_count": 14,
   "outputs": [
    {
     "data": {
      "text/plain": "<Figure size 576x1008 with 2 Axes>",
      "image/png": "[encoded data removed]"
     },
     "metadata": {
      "needs_background": "light"
     },
     "output_type": "display_data"
    }
   ],
   "source": [
    "full_data[\"RETadj\"] = full_data[\"PRCadj\"].pct_change()\n",
    "full_data_complete = full_data.dropna()\n",
    "\n",
    "part_data_1 = full_data_complete[full_data_complete.CUSIP == \"M7037810\"].reset_index(drop=True)\n",
    "part_data_2 = full_data_complete[full_data_complete.CUSIP == \"8651610\"].reset_index(drop=True)\n",
    "\n",
    "def momentum_compare_plot(part_data):\n",
    "    positive_mon = part_data[part_data.RETadj > 0]\n",
    "    negative_mon = part_data[part_data.RETadj < 0]\n",
    "    plt.hist(positive_mon[\"momentum\"], bins=15, label=\"positive month\",\n",
    "             alpha=0.4, density=True)\n",
    "    plt.hist(negative_mon[\"momentum\"], bins=15, label=\"negative month\",\n",
    "             alpha=0.4, density=True)\n",
    "    sns.kdeplot(positive_mon[\"momentum\"], label=\"positive month fit\")\n",
    "    sns.kdeplot(negative_mon[\"momentum\"], label=\"negative month fit\")\n",
    "    \n",
    "    plt.xticks(fontsize=12)\n",
    "    plt.yticks(fontsize=12)\n",
    "\n",
    "    font1 = {'size': 15,}\n",
    "    \n",
    "    plt.xlabel(\"momentum\", font1)\n",
    "    plt.ylabel(\"density\", font1)\n",
    "    \n",
    "    plt.legend(loc=\"best\")\n",
    "    plt.title(\"momentum distribution for {}\".format(part_data[\"CUSIP\"][0]),\n",
    "              fontsize=15)\n",
    "\n",
    "plt.figure(figsize=(8, 14))\n",
    "plt.subplot(211)\n",
    "momentum_compare_plot(part_data_1)\n",
    "plt.subplot(212)\n",
    "momentum_compare_plot(part_data_2)\n",
    "plt.show()"
   ],
   "metadata": {
    "collapsed": false,
    "pycharm": {
     "name": "#%%\n",
     "is_executing": false
    }
   }
  }
 ],
 "metadata": {
  "language_info": {
   "codemirror_mode": {
    "name": "ipython",
    "version": 2
   },
   "file_extension": ".py",
   "mimetype": "text/x-python",
   "name": "python",
   "nbconvert_exporter": "python",
   "pygments_lexer": "ipython2",
   "version": "2.7.6"
  },
  "kernelspec": {
   "name": "python3",
   "language": "python",
   "display_name": "Python 3"
  },
  "pycharm": {
   "stem_cell": {
    "cell_type": "raw",
    "source": [],
    "metadata": {
     "collapsed": false
    }
   }
  }
 },
 "nbformat": 4,
 "nbformat_minor": 0
}